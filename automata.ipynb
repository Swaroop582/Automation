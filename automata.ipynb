{
 "cells": [
  {
   "cell_type": "code",
   "execution_count": 1,
   "metadata": {},
   "outputs": [
    {
     "name": "stdout",
     "output_type": "stream",
     "text": [
      "Requirement already satisfied: automata-lib in c:\\users\\vyshnavi\\anaconda3\\lib\\site-packages (4.0.0.post1)\n",
      "Note: you may need to restart the kernel to use updated packages.\n"
     ]
    }
   ],
   "source": [
    "pip install automata-lib\n"
   ]
  },
  {
   "cell_type": "code",
   "execution_count": null,
   "metadata": {},
   "outputs": [
    {
     "name": "stdout",
     "output_type": "stream",
     "text": [
      "Enter the string :aab\n",
      "Rejected\n",
      "Enter the string :aa\n",
      "Rejected\n",
      "Enter the string :abab\n",
      "Accepted\n",
      "Enter the string :ab\n",
      "Accepted\n"
     ]
    }
   ],
   "source": [
    "\n",
    "\n",
    "from automata.fa.nfa import NFA\n",
    "# NFA which accepts strings that ends with '01'\n",
    "nfa = NFA(\n",
    "    states={'q0', 'q1', 'q2'},\n",
    "    input_symbols={'a', 'b'},\n",
    "    transitions={\n",
    "        'q0': {'a': {'q1'}},\n",
    "        'q1': {'b': {'q0', 'q2'}},\n",
    "        'q2': {}\n",
    "    },\n",
    "    initial_state='q0',\n",
    "    final_states={'q2'}\n",
    ")\n",
    "for i in range(1,8):\n",
    "    num = input(\"Enter the string :\")\n",
    "    if(nfa.accepts_input(num)):\n",
    "        print(\"Accepted\")\n",
    "    else:\n",
    "        print(\"Rejected\")"
   ]
  },
  {
   "cell_type": "code",
   "execution_count": null,
   "metadata": {},
   "outputs": [],
   "source": []
  }
 ],
 "metadata": {
  "kernelspec": {
   "display_name": "Python 3",
   "language": "python",
   "name": "python3"
  },
  "language_info": {
   "codemirror_mode": {
    "name": "ipython",
    "version": 3
   },
   "file_extension": ".py",
   "mimetype": "text/x-python",
   "name": "python",
   "nbconvert_exporter": "python",
   "pygments_lexer": "ipython3",
   "version": "3.8.5"
  }
 },
 "nbformat": 4,
 "nbformat_minor": 4
}
